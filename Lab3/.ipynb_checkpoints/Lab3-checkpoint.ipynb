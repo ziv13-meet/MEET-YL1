{
 "metadata": {
  "name": ""
 },
 "nbformat": 3,
 "nbformat_minor": 0,
 "worksheets": [
  {
   "cells": [
    {
     "cell_type": "code",
     "collapsed": false,
     "input": [
      "import csv\n",
      "from pylab import *\n",
      "\n",
      "f = open(\"cig.csv\",\"rb\")\n",
      "r = csv.reader(f)\n",
      "\n",
      "tar = []\n",
      "nic = []\n",
      "\n",
      "for row in r:\n",
      "    a = row[0].split()\n",
      "    a = a[1:]\n",
      "    a=map(float,a)\n",
      "    tar.append(a[0])\n",
      "    nic.append(a[1])\n",
      "\n",
      "print tar\n",
      "print nic\n",
      "\n",
      "\n",
      "fig = plt.figure()\n",
      "ax = fig.add_subplot(111)\n",
      "ax.set_title('Tar Content Over Nicotine Content')\n",
      "ax.set_xlabel('Tar Content')\n",
      "ax.set_ylabel('Nicotine Content')\n",
      "scatter(tar,nic)\n",
      "savefig(\"cig_scatter.png\")\n",
      "\n",
      "f.close()"
     ],
     "language": "python",
     "metadata": {},
     "outputs": [
      {
       "output_type": "stream",
       "stream": "stdout",
       "text": [
        "[14.1, 16.0, 29.8, 8.0, 4.1, 15.0, 8.8, 12.4, 16.6, 14.9, 13.7, 15.1, 7.8, 11.4, 9.0, 1.0, 17.0, 12.8, 15.8, 4.5, 14.5, 7.3, 8.6, 15.2, 12.0]\n",
        "[0.86, 1.06, 2.03, 0.67, 0.4, 1.04, 0.76, 0.95, 1.12, 1.02, 1.01, 0.9, 0.57, 0.78, 0.74, 0.13, 1.26, 1.08, 0.96, 0.42, 1.01, 0.61, 0.69, 1.02, 0.82]\n"
       ]
      }
     ],
     "prompt_number": 65
    }
   ],
   "metadata": {}
  }
 ]
}