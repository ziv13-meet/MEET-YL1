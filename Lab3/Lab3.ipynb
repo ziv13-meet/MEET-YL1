{
 "metadata": {
  "name": ""
 },
 "nbformat": 3,
 "nbformat_minor": 0,
 "worksheets": [
  {
   "cells": [
    {
     "cell_type": "code",
     "collapsed": false,
     "input": [
      "import csv\n",
      "from pylab import *\n",
      "\n",
      "f = open(\"cig.csv\",\"rb\")\n",
      "r = csv.reader(f)\n",
      "\n",
      "tar = []\n",
      "nic = []\n",
      "\n",
      "for row in r:\n",
      "    a = row[0].split()\n",
      "    a = a[1:]\n",
      "    a=map(float,a)\n",
      "    tar.append(a[0])\n",
      "    nic.append(a[1])\n",
      "\n",
      "fig = plt.figure()\n",
      "ax = fig.add_subplot(111)\n",
      "ax.set_title('Tar Content Over Nicotine Content')\n",
      "ax.set_xlabel('Tar Content')\n",
      "ax.set_ylabel('Nicotine Content')\n",
      "scatter(tar,nic)\n",
      "savefig(\"cig_scatter.png\")\n",
      "\n",
      "f.close()"
     ],
     "language": "python",
     "metadata": {},
     "outputs": [],
     "prompt_number": 69
    }
   ],
   "metadata": {}
  }
 ]
}